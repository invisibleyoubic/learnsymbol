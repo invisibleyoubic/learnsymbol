{
  "nbformat": 4,
  "nbformat_minor": 0,
  "metadata": {
    "colab": {
      "name": "latex.ipynb",
      "provenance": [],
      "collapsed_sections": [],
      "include_colab_link": true
    },
    "kernelspec": {
      "name": "python3",
      "display_name": "Python 3"
    }
  },
  "cells": [
    {
      "cell_type": "markdown",
      "metadata": {
        "id": "view-in-github",
        "colab_type": "text"
      },
      "source": [
        "<a href=\"https://colab.research.google.com/github/invisibleyoubic/learnsymbol_Nikulin/blob/main/latex.ipynb\" target=\"_parent\"><img src=\"https://colab.research.google.com/assets/colab-badge.svg\" alt=\"Open In Colab\"/></a>"
      ]
    },
    {
      "cell_type": "code",
      "metadata": {
        "id": "TBnitFrkM5go"
      },
      "source": [
        "from IPython.display import display, Math"
      ],
      "execution_count": null,
      "outputs": []
    },
    {
      "cell_type": "code",
      "metadata": {
        "id": "r_Lku_H2RBSv"
      },
      "source": [
        "def add(x, y):\n",
        "  return ['+', x, y]\n",
        "\n",
        "def sub(x, y):\n",
        "  return [\"-\", x, y]\n",
        "\n",
        "def mul(x, y):\n",
        "  return ['*', x, y]\n",
        "\n",
        "def div(x, y):\n",
        "  return [\"/\", x, y]\n",
        "\n",
        "def pow(x, y):\n",
        "  return [\"^\", x, y]\n",
        "\n",
        "def fsqrt(x):\n",
        "  return ['sqrt', x]\n",
        "\n",
        "def fln(x):\n",
        "  return ['ln', x]\n",
        "\n",
        "def flg(x):\n",
        "  return ['lg', x]\n",
        "\n",
        "def fsin(x):\n",
        "  return ['sin', x]\n",
        "\n",
        "def fcos(x):\n",
        "  return ['cos', x]\n",
        "\n",
        "def ftan(x):\n",
        "  return ['tan', x]\n",
        "\n",
        "def farcsin(x):\n",
        "  return ['arcsin', x]\n",
        "\n",
        "def farccos(x):\n",
        "  return ['arccos', x]\n",
        "\n",
        "def farctan(x):\n",
        "  return ['cos', x]\n",
        "\n",
        "def fsh(x):\n",
        "  return ['sh', x]\n",
        "\n",
        "def fch(x):\n",
        "  return ['ch', x]\n",
        "\n",
        "def fth(x):\n",
        "  return ['th', x]"
      ],
      "execution_count": null,
      "outputs": []
    },
    {
      "cell_type": "code",
      "metadata": {
        "id": "wYWq0kmUPVsL"
      },
      "source": [
        "def check(x):\n",
        "  if isinstance(x, Expression):\n",
        "    return x\n",
        "  return Expression(x)\n",
        "\n",
        "class Expression:\n",
        "  def __init__(self, f):\n",
        "    self.f = f\n",
        "\n",
        "  def __add__(self, x):\n",
        "    x = check(x)\n",
        "    return Expression(add(self.f, x.f))\n",
        "\n",
        "  def __sub__(self, x):\n",
        "    x = check(x)\n",
        "    return Expression(sub(self.f, x.f))\n",
        "\n",
        "  def __mul__(self, x):\n",
        "    x = check(x)\n",
        "    return Expression(mul(self.f, x.f))\n",
        "\n",
        "  def __pow__(self, x):\n",
        "    x = check(x)\n",
        "    return Expression(pow(self.f, x.f))\n",
        "\n",
        "  def __radd__(self, x):\n",
        "    x = check(x)\n",
        "    return Expression(add(x.f, self.f))\n",
        "\n",
        "  def __rsub__(self, x):\n",
        "    x = check(x)\n",
        "    return Expression(sub(x.f, self.f))\n",
        "\n",
        "  def __rmul__(self, x):\n",
        "    x = check(x)\n",
        "    return Expression(mul(x.f, self.f))\n",
        "\n",
        "  def __rtruediv__(self, x):\n",
        "    x = check(x)\n",
        "    return Expression(div(x.f, self.f))\n",
        "    \n",
        "  def __rpow__(self, x):\n",
        "    x = check(x)\n",
        "    return Expression(pow(x.f, self.f))\n",
        "\n",
        "  def subs(self, var, val):\n",
        "    return Expression(substitute(self.f, var, val))\n",
        "\n",
        "  def evalf(self):\n",
        "    return evaluate(self.f)\n",
        "\n",
        "  def show(self):\n",
        "    display(Math(toLatex(self.f)))\n",
        "\n",
        "  def __str__(self):\n",
        "    return toLatex(self.f)"
      ],
      "execution_count": null,
      "outputs": []
    },
    {
      "cell_type": "code",
      "metadata": {
        "id": "s3ejG8WrX5Iv"
      },
      "source": [
        "def sqrt(x):\n",
        "  x = check(x)\n",
        "  t = x.f\n",
        "  r = fsqrt(t)\n",
        "  return Expression(r)\n",
        "\n",
        "def ln(x):\n",
        "  return Expression(fln(check(x).f))\n",
        "\n",
        "def lg(x):\n",
        "  return Expression(flg(check(x).f))\n",
        "\n",
        "def sin(x):\n",
        "  return Expression(fsin(check(x).f))\n",
        "\n",
        "def cos(x):\n",
        "  return Expression(fcos(check(x).f))\n",
        "\n",
        "def tan(x):\n",
        "  return Expression(ftan(check(x).f))\n",
        "\n",
        "def arcsin(x):\n",
        "  return Expression(farcsin(check(x).f))\n",
        "\n",
        "def arccos(x):\n",
        "  return Expression(farccos(check(x).f))\n",
        "\n",
        "def arctan(x):\n",
        "  return Expression(farctan(check(x).f))\n",
        "\n",
        "def sh(x):\n",
        "  return Expression(fsh(check(x).f))\n",
        "\n",
        "def ch(x):\n",
        "  return Expression(fch(check(x).f))\n",
        "\n",
        "def th(x):\n",
        "  return Expression(fth(check(x).f))"
      ],
      "execution_count": null,
      "outputs": []
    },
    {
      "cell_type": "code",
      "metadata": {
        "id": "hPBIpRa8dwWE"
      },
      "source": [
        "def evaluate(f):\n",
        "  if isinstance(f, (int, float)):\n",
        "    return f\n",
        "  elif isinstance(f, list):\n",
        "    if f[0] == \"+\": \n",
        "      return evaluate(f[1]) + evaluate(f[2])\n",
        "    elif f[0] == \"*\":\n",
        "      return evaluate(f[1]) * evaluate(f[2])\n",
        "    elif f[0] == \"sqrt\":\n",
        "      return math.sqrt(evaluate(f[1]))\n",
        "    elif f[0] == \"sin\":\n",
        "      return math.sin(evaluate(f[1]))\n",
        "    elif f[0] == \"cos\":\n",
        "      return math.cos(evaluate(f[1]))\n",
        "  return None"
      ],
      "execution_count": null,
      "outputs": []
    },
    {
      "cell_type": "code",
      "metadata": {
        "id": "ewSBiIb1JJVy"
      },
      "source": [
        "def substitute(f, var, val):\n",
        "  val = check(val).f\n",
        "  if f == var:\n",
        "    return val\n",
        "  elif isinstance(f, list):\n",
        "    y = [f[0]]\n",
        "    for i in range(1, len(f)):\n",
        "      t = substitute(f[i], var, val)\n",
        "      y.append(t)\n",
        "    return y\n",
        "  else:\n",
        "    return f"
      ],
      "execution_count": null,
      "outputs": []
    },
    {
      "cell_type": "code",
      "metadata": {
        "id": "7Y8qjRkJJw8v"
      },
      "source": [
        "def toLatex(x):\n",
        "  if isinstance(x, (int, float)):\n",
        "    return str(x)\n",
        "  if isinstance(x, str):\n",
        "    return x\n",
        "  if isinstance(x, list):\n",
        "    if x[0] == \"+\":\n",
        "      return toLatex(x[1]) + \"+\" + toLatex(x[2])\n",
        "\n",
        "    if x[0] == \"-\":\n",
        "      return toLatex(x[1]) + \"-\" + toLatex(x[2])\n",
        "\n",
        "    if x[0] == \"*\":\n",
        "      left = toLatex(x[1])\n",
        "      if isinstance(x[1], list) and x[1][0] == \"+\":\n",
        "        left = \"\\\\left(\" + left + \"\\\\right)\"\n",
        "      right = toLatex(x[2])\n",
        "      if isinstance(x[2], list) and x[2][0] == \"+\":\n",
        "        right = \"\\\\left(\" + right + \"\\\\right)\"\n",
        "      return left + \"\\\\cdot \" + right\n",
        "\n",
        "    if x[0] == \"/\":\n",
        "      return \"\\\\dfrac{\" + toLatex(x[1]) + \"}{\" + toLatex(x[2]) + \"}\"\n",
        "\n",
        "    if x[0] == \"^\":\n",
        "      left = toLatex(x[1])\n",
        "      if isinstance(x[1], list):\n",
        "        left = \"\\\\left(\" + left + \"\\\\right)\"\n",
        "      right = toLatex(x[2])\n",
        "      return \"{\" + left + \"}^{\" + right + \"}\"\n",
        "    \n",
        "    if x[0] == \"sqrt\":\n",
        "      a = toLatex(x[1])\n",
        "      return \"\\\\sqrt{\" + a + \"}\"\n",
        "\n",
        "    if x[0] == \"ln\":\n",
        "      a = toLatex(x[1])\n",
        "      if isinstance(x[1], list):\n",
        "        a = \"\\\\left(\" + a + \"\\\\right)\"\n",
        "      return \"\\\\ln{\" + a + \"}\"\n",
        "\n",
        "    if x[0] == \"lg\":\n",
        "      a = toLatex(x[1])\n",
        "      if isinstance(x[1], list):\n",
        "        a = \"\\\\left(\" + a + \"\\\\right)\"\n",
        "      return \"\\\\lg{\" + a + \"}\"\n",
        "\n",
        "    if x[0] == \"sin\":\n",
        "      a = toLatex(x[1])\n",
        "      if isinstance(x[1], list):\n",
        "        a = \"\\\\left(\" + a + \"\\\\right)\"\n",
        "      return \"\\\\sin{\" + a + \"}\"\n",
        "\n",
        "    if x[0] == \"cos\":\n",
        "      a = toLatex(x[1])\n",
        "      if isinstance(x[1], list):\n",
        "        a = \"\\\\left(\" + a + \"\\\\right)\"\n",
        "      return \"\\\\cos{\" + a + \"}\"\n",
        "\n",
        "    if x[0] == \"tan\":\n",
        "      a = toLatex(x[1])\n",
        "      if isinstance(x[1], list):\n",
        "        a = \"\\\\left(\" + a + \"\\\\right)\"\n",
        "      return \"\\\\tan{\" + a + \"}\"\n",
        "\n",
        "    if x[0] == \"arcsin\":\n",
        "      a = toLatex(x[1])\n",
        "      if isinstance(x[1], list):\n",
        "        a = \"\\\\left(\" + a + \"\\\\right)\"\n",
        "      return \"\\\\arcsin{\" + a + \"}\"\n",
        "\n",
        "    if x[0] == \"arccos\":\n",
        "      a = toLatex(x[1])\n",
        "      if isinstance(x[1], list):\n",
        "        a = \"\\\\left(\" + a + \"\\\\right)\"\n",
        "      return \"\\\\arccos{\" + a + \"}\"\n",
        "\n",
        "    if x[0] == \"arctan\":\n",
        "      a = toLatex(x[1])\n",
        "      if isinstance(x[1], list):\n",
        "        a = \"\\\\left(\" + a + \"\\\\right)\"\n",
        "      return \"\\\\arctan{\" + a + \"}\"\n",
        "\n",
        "    if x[0] == \"sh\":\n",
        "      a = toLatex(x[1])\n",
        "      if isinstance(x[1], list):\n",
        "        a = \"\\\\left(\" + a + \"\\\\right)\"\n",
        "      return \"\\\\sh{\" + a + \"}\"\n",
        "\n",
        "    if x[0] == \"ch\":\n",
        "      a = toLatex(x[1])\n",
        "      if isinstance(x[1], list):\n",
        "        a = \"\\\\left(\" + a + \"\\\\right)\"\n",
        "      return \"\\\\ch{\" + a + \"}\"\n",
        "\n",
        "    if x[0] == \"th\":\n",
        "      a = toLatex(x[1])\n",
        "      if isinstance(x[1], list):\n",
        "        a = \"\\\\left(\" + a + \"\\\\right)\"\n",
        "      return \"\\\\th{\" + a + \"}\""
      ],
      "execution_count": null,
      "outputs": []
    },
    {
      "cell_type": "code",
      "metadata": {
        "colab": {
          "base_uri": "https://localhost:8080/"
        },
        "id": "_lAaG26fVhiX",
        "outputId": "5b592255-a693-42ba-cc2d-273cbace6bcf"
      },
      "source": [
        "x = Expression('x')\n",
        "y = Expression('y')\n",
        "z = x + 2 * ln(y) + sin(5) - 2\n",
        "z.f"
      ],
      "execution_count": null,
      "outputs": [
        {
          "output_type": "execute_result",
          "data": {
            "text/plain": [
              "['-', ['+', ['+', 'x', ['*', 2, ['ln', 'y']]], ['sin', 5]], 2]"
            ]
          },
          "metadata": {
            "tags": []
          },
          "execution_count": 23
        }
      ]
    },
    {
      "cell_type": "code",
      "metadata": {
        "id": "C8m5IQEVJceS",
        "colab": {
          "base_uri": "https://localhost:8080/",
          "height": 38
        },
        "outputId": "0ef85fdd-9889-49ba-edd6-a3fa69632cd8"
      },
      "source": [
        "y.show()"
      ],
      "execution_count": null,
      "outputs": [
        {
          "output_type": "display_data",
          "data": {
            "text/latex": "$$y$$",
            "text/plain": [
              "<IPython.core.display.Math object>"
            ]
          },
          "metadata": {
            "tags": []
          }
        }
      ]
    }
  ]
}