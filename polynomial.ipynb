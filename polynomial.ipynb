{
  "nbformat": 4,
  "nbformat_minor": 0,
  "metadata": {
    "colab": {
      "name": "polynomial.ipynb",
      "provenance": [],
      "collapsed_sections": [],
      "include_colab_link": true
    },
    "kernelspec": {
      "name": "python3",
      "display_name": "Python 3"
    }
  },
  "cells": [
    {
      "cell_type": "markdown",
      "metadata": {
        "id": "view-in-github",
        "colab_type": "text"
      },
      "source": [
        "<a href=\"https://colab.research.google.com/github/invisibleyoubic/learnsymbol_Nikulin/blob/main/polynomial.ipynb\" target=\"_parent\"><img src=\"https://colab.research.google.com/assets/colab-badge.svg\" alt=\"Open In Colab\"/></a>"
      ]
    },
    {
      "cell_type": "code",
      "metadata": {
        "id": "ujnJitDrKAV-"
      },
      "source": [
        "import matplotlib\n",
        "import matplotlib.pyplot as plt\n",
        "\n",
        "class Polynomial:\n",
        "    coefArray = []\n",
        "\n",
        "    def __init__(self, *coefficient):\n",
        "        self.coefArray = coefficient\n",
        "\n",
        "    def __str__(self):\n",
        "        outPutString = \"\"\n",
        "        for i in range(len(self.coefArray)-1, -1, -1):\n",
        "          outPutString += str(self.coefArray[i])\n",
        "          if i>0:\n",
        "            outPutString += 'x'\n",
        "          if i>1:\n",
        "            outPutString += '^' + str(i)\n",
        "          if i >0:\n",
        "            outPutString+='+'\n",
        "        return outPutString\n",
        "\n",
        "    def __add__(self, polynom):\n",
        "        tmpArray = []\n",
        "        for i in range(min(len(self.coefArray)-1, len(polynom.coefArray)-1), -1, -1):\n",
        "            tmpArray[i] = self.coefArray[i] + polynom.coefArray[i]\n",
        "        return Polynomial(tmpArray)\n",
        "\n",
        "    def __sub__(self, polynom):\n",
        "        tmpArray = []\n",
        "        for i in range(min(len(self.coefArray)-1, len(polynom.coefArray)-1), -1, -1):\n",
        "            tmpArray[i] = self.coefArray[i] - polynom.coefArray[i]\n",
        "        return Polynomial(tmpArray)\n",
        "\n",
        "    def evalf(self, x):\n",
        "        result = 0\n",
        "        for i in range(len(self.coefArray)-1, -1, -1):\n",
        "            result += self.coefArray[i] * x ** i\n",
        "        return result\n",
        "\n",
        "    def toLatex(self):\n",
        "        return str(self)\n",
        "\n",
        "    def show(self):\n",
        "        print(str(self))\n",
        "\n",
        "    def diff(self):\n",
        "        tmpArray = []\n",
        "        for i in range(1, len(self.coefArray)):\n",
        "            tmpArray[i-1] = self.coefArray[i] * i\n",
        "        return Polynomial(tmpArray)\n",
        "\n",
        "    def plot(self, left, right):\n",
        "        X, Y = [], []\n",
        "        n=200\n",
        "        dx = (right - left) / n\n",
        "        for i in range(n+1):\n",
        "            x = left + dx*i\n",
        "            X.append(x)\n",
        "            #print(x)\n",
        "            Y.append(self.evalf(x))\n",
        "            \n",
        "\n",
        "        fig, ax = plt.subplots(figsize=(12, 9))\n",
        "        ax.plot(X, Y, color=\"red\", lw=5)\n",
        "        plt.show()"
      ],
      "execution_count": null,
      "outputs": []
    },
    {
      "cell_type": "code",
      "metadata": {
        "colab": {
          "base_uri": "https://localhost:8080/",
          "height": 565
        },
        "id": "bO9RKag4KD74",
        "outputId": "9a4fac3c-5f6e-492c-913a-6de11c97c9ff"
      },
      "source": [
        "a = Polynomial(3,4,12,12,344)\n",
        "a.show()\n",
        "a.plot(-40,40)"
      ],
      "execution_count": null,
      "outputs": [
        {
          "output_type": "stream",
          "text": [
            "344x^4+12x^3+12x^2+4x+3\n"
          ],
          "name": "stdout"
        },
        {
          "output_type": "display_data",
          "data": {
            "image/png": "[encoded data removed]",
            "text/plain": [
              "<Figure size 864x648 with 1 Axes>"
            ]
          },
          "metadata": {
            "tags": [],
            "needs_background": "light"
          }
        }
      ]
    }
  ]
}