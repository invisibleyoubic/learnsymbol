{
  "nbformat": 4,
  "nbformat_minor": 0,
  "metadata": {
    "colab": {
      "name": "Rational.ipynb",
      "provenance": [],
      "collapsed_sections": [],
      "authorship_tag": "ABX9TyMZNpAI+nctsXNOGzPFWp7C",
      "include_colab_link": true
    },
    "kernelspec": {
      "name": "python3",
      "display_name": "Python 3"
    }
  },
  "cells": [
    {
      "cell_type": "markdown",
      "metadata": {
        "id": "view-in-github",
        "colab_type": "text"
      },
      "source": [
        "<a href=\"https://colab.research.google.com/github/invisibleyoubic/learnsymbol_Nikulin/blob/main/Rational_Fixed.ipynb\" target=\"_parent\"><img src=\"https://colab.research.google.com/assets/colab-badge.svg\" alt=\"Open In Colab\"/></a>"
      ]
    },
    {
      "cell_type": "code",
      "metadata": {
        "id": "b3aOVgpsD5hY"
      },
      "source": [
        "class Rational:\r\n",
        "  def __init__(self, z, n = 1):\r\n",
        "    self.z = z\r\n",
        "    self.n = n\r\n",
        "    self.normalize()\r\n",
        "    #self.mixed()\r\n",
        "\r\n",
        "  def __str__(self):\r\n",
        "    return str(self.z) + \"/\" + str(self.n)\r\n",
        "  \r\n",
        "  def normalize(self):\r\n",
        "    if self.n < 0:\r\n",
        "      self.n *= -1\r\n",
        "      self.z *= -1\r\n",
        "\r\n",
        "    z, n = abs(self.z), self.n\r\n",
        "    while (z % n != 0):\r\n",
        "      z, n = n, z % n\r\n",
        "    self.z //= n\r\n",
        "    self.n //= n\r\n",
        "\r\n",
        "  def __add__(self, other):\r\n",
        "    chis = self.z * other.n + other.z * self.n\r\n",
        "    znam = other.n * self.n\r\n",
        "    b = Rational(chis, znam)\r\n",
        "    return b\r\n",
        "\r\n",
        "  def __iadd__(self, other):\r\n",
        "    chis = self.z * other.n + other.z * self.n\r\n",
        "    znam = other.n * self.n\r\n",
        "    b = Rational(chis, znam)\r\n",
        "    return b\r\n",
        "\r\n",
        "  def __sub__(self, other):\r\n",
        "    chis = self.z * other.n - other.z * self.n\r\n",
        "    znam = other.n * self.n\r\n",
        "    b = Rational(chis, znam)\r\n",
        "    return b\r\n",
        "\r\n",
        "  def __isub__(self, other):\r\n",
        "    chis = self.z * other.n - other.z * self.n\r\n",
        "    znam = other.n * self.n\r\n",
        "    b = Rational(chis, znam)\r\n",
        "    return b\r\n",
        "\r\n",
        "  def __mul__(self, other):\r\n",
        "    chis = self.z * other.z\r\n",
        "    znam = self.n * other.n\r\n",
        "    b = Rational(chis, znam)\r\n",
        "    return b\r\n",
        "\r\n",
        "  def __imul__(self, other):\r\n",
        "    chis = self.z * other.z\r\n",
        "    znam = self.n * other.n\r\n",
        "    b = Rational(chis, znam)\r\n",
        "    return b\r\n",
        "\r\n",
        "  def __truediv__(self, other):\r\n",
        "    chis = self.z * other.n\r\n",
        "    znam = self.n * other.z\r\n",
        "    b = Rational(chis, znam)\r\n",
        "    return b\r\n",
        "\r\n",
        "  def __idiv__(self, other):\r\n",
        "    chis = self.z * other.n\r\n",
        "    znam = self.n * other.z\r\n",
        "    b = Rational(chis, znam)\r\n",
        "    return b\r\n",
        "\r\n",
        "  def __pow__(self, other):\r\n",
        "    chis = self.z ** other\r\n",
        "    znam = self.n ** other\r\n",
        "    b = Rational(chis, znam)\r\n",
        "    return b\r\n",
        "  \r\n",
        "  def __neg__(self):\r\n",
        "    chis = -self.z\r\n",
        "    znam = -self.n\r\n",
        "    b = Rational(chis, znam)\r\n",
        "    return b\r\n",
        "  def __abs__(self):\r\n",
        "    b = Rational(abs(self.z), abs(self.n))\r\n",
        "    return b\r\n",
        "\r\n",
        "  def __lt__(self, other):\r\n",
        "    return ((self.z / self.n) < (other.z / other.n))\r\n",
        "\r\n",
        "  def __gt__(self, other):\r\n",
        "    return ((self.z / self.n) > (other.z / other.n))\r\n",
        "\r\n",
        "  def __le__(self, other):\r\n",
        "    return ((self.z / self.n) <= (other.z / other.n))\r\n",
        "\r\n",
        "  def __ge__(self, other):\r\n",
        "    return ((self.z / self.n) >= (other.z / other.n))\r\n",
        "\r\n",
        "  def __eq__(self, other):\r\n",
        "    return ((self.z / self.n) == (other.z / other.n))\r\n",
        "\r\n",
        "  def __ne__(self, other):\r\n",
        "    return ((self.z / self.n) != (other.z / other.n))\r\n",
        "\r\n",
        "  def mixed(self):\r\n",
        "    if(self.z > self.n):\r\n",
        "      full = self.z // self.n\r\n",
        "      chis = self.z - self.n * full\r\n",
        "      znam = self.n\r\n",
        "    b = Rational(chis, znam)\r\n",
        "    return str(full) + \" и \" + str(b)\r\n"
      ],
      "execution_count": 16,
      "outputs": []
    },
    {
      "cell_type": "code",
      "metadata": {
        "id": "nWLuzrNsIIOH",
        "colab": {
          "base_uri": "https://localhost:8080/"
        },
        "outputId": "07160965-70b4-42b5-f82e-a0536a0e2657"
      },
      "source": [
        "a = Rational(5, 3)\r\n",
        "p = Rational(25, 10)\r\n",
        "print(a + p)\r\n",
        "b = Rational.mixed(p)\r\n",
        "print(b)"
      ],
      "execution_count": 19,
      "outputs": [
        {
          "output_type": "stream",
          "text": [
            "25/6\n",
            "2 и 1/2\n"
          ],
          "name": "stdout"
        }
      ]
    }
  ]
}